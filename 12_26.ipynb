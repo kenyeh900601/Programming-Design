{
  "nbformat": 4,
  "nbformat_minor": 0,
  "metadata": {
    "colab": {
      "name": "12/26.ipynb",
      "provenance": []
    },
    "kernelspec": {
      "name": "python3",
      "display_name": "Python 3"
    }
  },
  "cells": [
    {
      "cell_type": "code",
      "metadata": {
        "id": "rnLjBP_vs0sf",
        "colab_type": "code",
        "colab": {
          "base_uri": "https://localhost:8080/",
          "height": 102
        },
        "outputId": "446978a0-6580-47d3-a552-529620f36981"
      },
      "source": [
        "n=0\n",
        "while n<10:\n",
        "  n=n+1\n",
        "  print(\"n is\",n)\n",
        "  if n==4:\n",
        "    break\n",
        "print(\"Finished\")    "
      ],
      "execution_count": 1,
      "outputs": [
        {
          "output_type": "stream",
          "text": [
            "n is 1\n",
            "n is 2\n",
            "n is 3\n",
            "n is 4\n",
            "Finished\n"
          ],
          "name": "stdout"
        }
      ]
    },
    {
      "cell_type": "code",
      "metadata": {
        "id": "MqiNqlXctlzK",
        "colab_type": "code",
        "colab": {
          "base_uri": "https://localhost:8080/",
          "height": 85
        },
        "outputId": "395f540f-d151-4570-91ee-11757aa81a58"
      },
      "source": [
        "answer=\"123\"\n",
        "while True:\n",
        "  password=input(\"Enter your password\")\n",
        "  if password==answer:\n",
        "    print(\"Correct\")\n",
        "    break\n",
        "  else:\n",
        "    print(\"Fail,Try again\")  "
      ],
      "execution_count": 2,
      "outputs": [
        {
          "output_type": "stream",
          "text": [
            "Enter your password456\n",
            "Fail,Try again\n",
            "Enter your password123\n",
            "Correct\n"
          ],
          "name": "stdout"
        }
      ]
    },
    {
      "cell_type": "code",
      "metadata": {
        "id": "I6XRqOmBupnB",
        "colab_type": "code",
        "colab": {
          "base_uri": "https://localhost:8080/",
          "height": 119
        },
        "outputId": "720eb8b2-d70f-4395-f00d-13eb6582d55e"
      },
      "source": [
        "answer1=\"123\"\n",
        "answer2=\"456\"\n",
        "while True:\n",
        "  n1=input(\"Enter your password:\")\n",
        "  n2=input(\"Enter your account:\")\n",
        "  if n1==answer1 and n2==answer2:\n",
        "    print(\"Account and Password Correct\")\n",
        "    break\n",
        "  else:\n",
        "    print(\"Fall,Try again\")  "
      ],
      "execution_count": 3,
      "outputs": [
        {
          "output_type": "stream",
          "text": [
            "Enter your password:456\n",
            "Enter your account:123\n",
            "Fall,Try again\n",
            "Enter your password:123\n",
            "Enter your account:456\n",
            "Account and Password Correct\n"
          ],
          "name": "stdout"
        }
      ]
    },
    {
      "cell_type": "markdown",
      "metadata": {
        "id": "uuXI31Qd4ebs",
        "colab_type": "text"
      },
      "source": [
        ""
      ]
    },
    {
      "cell_type": "code",
      "metadata": {
        "id": "ktoW8obhzpoN",
        "colab_type": "code",
        "colab": {
          "base_uri": "https://localhost:8080/",
          "height": 136
        },
        "outputId": "3ec41502-7bce-4320-a5a4-d311aafe9ac9"
      },
      "source": [
        "answer1=\"a123456\"\n",
        "x=3\n",
        "while True:\n",
        "  n1=input(\"Enter your password,you have 3 chances\")\n",
        "  if n1==answer1:\n",
        "    print(\"Correct\")\n",
        "    break\n",
        "  else:\n",
        "    x=x-1\n",
        "    print(\"Fall,you have\",x,\"chances\")\n",
        "  if x==0:\n",
        "    print(\"you fail\")\n",
        "    break    "
      ],
      "execution_count": 4,
      "outputs": [
        {
          "output_type": "stream",
          "text": [
            "Enter your password,you have 3 chances456\n",
            "Fall,you have 2 chances\n",
            "Enter your password,you have 3 chances456\n",
            "Fall,you have 1 chances\n",
            "Enter your password,you have 3 chances123456\n",
            "Fall,you have 0 chances\n",
            "you fail\n"
          ],
          "name": "stdout"
        }
      ]
    },
    {
      "cell_type": "code",
      "metadata": {
        "id": "Yrl0vTfY3fUe",
        "colab_type": "code",
        "colab": {
          "base_uri": "https://localhost:8080/",
          "height": 34
        },
        "outputId": "0c15f323-371c-4fd2-906a-f4068f75c1aa"
      },
      "source": [
        "for a in range(6):\n",
        "  print(a,end=\" \")\n",
        "print(\"\")  "
      ],
      "execution_count": 5,
      "outputs": [
        {
          "output_type": "stream",
          "text": [
            "0 1 2 3 4 5 \n"
          ],
          "name": "stdout"
        }
      ]
    },
    {
      "cell_type": "code",
      "metadata": {
        "id": "pc2i2f6p3yJZ",
        "colab_type": "code",
        "colab": {
          "base_uri": "https://localhost:8080/",
          "height": 34
        },
        "outputId": "9c3ca595-07a6-407b-901e-0211b167c6e4"
      },
      "source": [
        "sum=0\n",
        "for x in range(1,11,2):\n",
        "  sum=sum+x\n",
        "print(\"1+3+5+7+9=\",sum)  "
      ],
      "execution_count": 6,
      "outputs": [
        {
          "output_type": "stream",
          "text": [
            "1+3+5+7+9= 25\n"
          ],
          "name": "stdout"
        }
      ]
    }
  ]
}