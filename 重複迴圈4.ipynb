{
  "nbformat": 4,
  "nbformat_minor": 0,
  "metadata": {
    "colab": {
      "name": "重複迴圈4.ipynb",
      "provenance": []
    },
    "kernelspec": {
      "name": "python3",
      "display_name": "Python 3"
    }
  },
  "cells": [
    {
      "cell_type": "code",
      "metadata": {
        "id": "5Rcaj9KszM9N",
        "colab_type": "code",
        "colab": {
          "base_uri": "https://localhost:8080/",
          "height": 51
        },
        "outputId": "22e59dff-9e45-4be2-ff10-370617b7e37a"
      },
      "source": [
        "a = range(5)\n",
        "print(a)\n",
        "print(a[0], a[1], a[2], a[3], a[4])"
      ],
      "execution_count": 1,
      "outputs": [
        {
          "output_type": "stream",
          "text": [
            "range(0, 5)\n",
            "0 1 2 3 4\n"
          ],
          "name": "stdout"
        }
      ]
    },
    {
      "cell_type": "code",
      "metadata": {
        "id": "AKQiUKZt0hqC",
        "colab_type": "code",
        "colab": {
          "base_uri": "https://localhost:8080/",
          "height": 34
        },
        "outputId": "ae0e726b-269f-41d2-d343-36ac878735d6"
      },
      "source": [
        "b = range(2, 6)\n",
        "print(b[0], b[1], b[2], b[3])"
      ],
      "execution_count": 2,
      "outputs": [
        {
          "output_type": "stream",
          "text": [
            "2 3 4 5\n"
          ],
          "name": "stdout"
        }
      ]
    },
    {
      "cell_type": "code",
      "metadata": {
        "id": "JAX7nQ5s0nvX",
        "colab_type": "code",
        "colab": {
          "base_uri": "https://localhost:8080/",
          "height": 34
        },
        "outputId": "c3475d45-840a-48f6-ebd5-72d8a7d004cd"
      },
      "source": [
        "c = range(0, 6, 2)\n",
        "print(c[0], c[1], c[2])"
      ],
      "execution_count": 3,
      "outputs": [
        {
          "output_type": "stream",
          "text": [
            "0 2 4\n"
          ],
          "name": "stdout"
        }
      ]
    },
    {
      "cell_type": "code",
      "metadata": {
        "id": "aWTyZKje0qrO",
        "colab_type": "code",
        "colab": {
          "base_uri": "https://localhost:8080/",
          "height": 34
        },
        "outputId": "da56dcf5-7954-473c-8fdd-aab4839e6c54"
      },
      "source": [
        "d = range(6, 0, -2)\n",
        "print(d[0], d[1], d[2])"
      ],
      "execution_count": 4,
      "outputs": [
        {
          "output_type": "stream",
          "text": [
            "6 4 2\n"
          ],
          "name": "stdout"
        }
      ]
    },
    {
      "cell_type": "code",
      "metadata": {
        "id": "-FD_5_ID0zgE",
        "colab_type": "code",
        "colab": {
          "base_uri": "https://localhost:8080/",
          "height": 1000
        },
        "outputId": "94c94e3f-54a4-4d78-f150-969b2b02abfb"
      },
      "source": [
        "#range通常和for迴圈搭配, for i in range\n",
        "for i in range(5):\n",
        " print(i)\n",
        "\n",
        "for i in range(3):\n",
        " print(\"hi\")\n",
        "\n",
        "import random\n",
        "for i in range(10):\n",
        " r = random.randint(1,100)\n",
        " print(r)\n",
        "\n",
        "for i in range(100):\n",
        " r = random.randint(1,1000)\n",
        " print(\"第\", i, \"個隨機變數的值是\", r)\n",
        "t = 0\n",
        "\n",
        "for i in range(100):\n",
        " t += 50\n",
        " print(\"第\", i, \"個數是\", t )"
      ],
      "execution_count": 16,
      "outputs": [
        {
          "output_type": "stream",
          "text": [
            "0\n",
            "1\n",
            "2\n",
            "3\n",
            "4\n",
            "hi\n",
            "hi\n",
            "hi\n",
            "26\n",
            "1\n",
            "88\n",
            "43\n",
            "43\n",
            "26\n",
            "76\n",
            "65\n",
            "95\n",
            "23\n",
            "第 0 個隨機變數的值是 15\n",
            "第 1 個隨機變數的值是 580\n",
            "第 2 個隨機變數的值是 966\n",
            "第 3 個隨機變數的值是 321\n",
            "第 4 個隨機變數的值是 958\n",
            "第 5 個隨機變數的值是 116\n",
            "第 6 個隨機變數的值是 161\n",
            "第 7 個隨機變數的值是 683\n",
            "第 8 個隨機變數的值是 816\n",
            "第 9 個隨機變數的值是 561\n",
            "第 10 個隨機變數的值是 315\n",
            "第 11 個隨機變數的值是 536\n",
            "第 12 個隨機變數的值是 861\n",
            "第 13 個隨機變數的值是 850\n",
            "第 14 個隨機變數的值是 510\n",
            "第 15 個隨機變數的值是 94\n",
            "第 16 個隨機變數的值是 774\n",
            "第 17 個隨機變數的值是 172\n",
            "第 18 個隨機變數的值是 367\n",
            "第 19 個隨機變數的值是 212\n",
            "第 20 個隨機變數的值是 733\n",
            "第 21 個隨機變數的值是 371\n",
            "第 22 個隨機變數的值是 717\n",
            "第 23 個隨機變數的值是 693\n",
            "第 24 個隨機變數的值是 389\n",
            "第 25 個隨機變數的值是 713\n",
            "第 26 個隨機變數的值是 207\n",
            "第 27 個隨機變數的值是 97\n",
            "第 28 個隨機變數的值是 282\n",
            "第 29 個隨機變數的值是 97\n",
            "第 30 個隨機變數的值是 897\n",
            "第 31 個隨機變數的值是 302\n",
            "第 32 個隨機變數的值是 731\n",
            "第 33 個隨機變數的值是 577\n",
            "第 34 個隨機變數的值是 93\n",
            "第 35 個隨機變數的值是 288\n",
            "第 36 個隨機變數的值是 793\n",
            "第 37 個隨機變數的值是 840\n",
            "第 38 個隨機變數的值是 345\n",
            "第 39 個隨機變數的值是 460\n",
            "第 40 個隨機變數的值是 801\n",
            "第 41 個隨機變數的值是 578\n",
            "第 42 個隨機變數的值是 413\n",
            "第 43 個隨機變數的值是 307\n",
            "第 44 個隨機變數的值是 715\n",
            "第 45 個隨機變數的值是 68\n",
            "第 46 個隨機變數的值是 309\n",
            "第 47 個隨機變數的值是 444\n",
            "第 48 個隨機變數的值是 238\n",
            "第 49 個隨機變數的值是 994\n",
            "第 50 個隨機變數的值是 314\n",
            "第 51 個隨機變數的值是 585\n",
            "第 52 個隨機變數的值是 248\n",
            "第 53 個隨機變數的值是 235\n",
            "第 54 個隨機變數的值是 673\n",
            "第 55 個隨機變數的值是 504\n",
            "第 56 個隨機變數的值是 256\n",
            "第 57 個隨機變數的值是 759\n",
            "第 58 個隨機變數的值是 546\n",
            "第 59 個隨機變數的值是 6\n",
            "第 60 個隨機變數的值是 700\n",
            "第 61 個隨機變數的值是 596\n",
            "第 62 個隨機變數的值是 737\n",
            "第 63 個隨機變數的值是 888\n",
            "第 64 個隨機變數的值是 690\n",
            "第 65 個隨機變數的值是 604\n",
            "第 66 個隨機變數的值是 377\n",
            "第 67 個隨機變數的值是 889\n",
            "第 68 個隨機變數的值是 102\n",
            "第 69 個隨機變數的值是 769\n",
            "第 70 個隨機變數的值是 598\n",
            "第 71 個隨機變數的值是 996\n",
            "第 72 個隨機變數的值是 131\n",
            "第 73 個隨機變數的值是 470\n",
            "第 74 個隨機變數的值是 653\n",
            "第 75 個隨機變數的值是 758\n",
            "第 76 個隨機變數的值是 374\n",
            "第 77 個隨機變數的值是 92\n",
            "第 78 個隨機變數的值是 601\n",
            "第 79 個隨機變數的值是 229\n",
            "第 80 個隨機變數的值是 507\n",
            "第 81 個隨機變數的值是 367\n",
            "第 82 個隨機變數的值是 155\n",
            "第 83 個隨機變數的值是 331\n",
            "第 84 個隨機變數的值是 678\n",
            "第 85 個隨機變數的值是 364\n",
            "第 86 個隨機變數的值是 35\n",
            "第 87 個隨機變數的值是 948\n",
            "第 88 個隨機變數的值是 512\n",
            "第 89 個隨機變數的值是 100\n",
            "第 90 個隨機變數的值是 656\n",
            "第 91 個隨機變數的值是 929\n",
            "第 92 個隨機變數的值是 548\n",
            "第 93 個隨機變數的值是 607\n",
            "第 94 個隨機變數的值是 415\n",
            "第 95 個隨機變數的值是 922\n",
            "第 96 個隨機變數的值是 495\n",
            "第 97 個隨機變數的值是 140\n",
            "第 98 個隨機變數的值是 729\n",
            "第 99 個隨機變數的值是 968\n",
            "第 0 個數是 50\n",
            "第 1 個數是 100\n",
            "第 2 個數是 150\n",
            "第 3 個數是 200\n",
            "第 4 個數是 250\n",
            "第 5 個數是 300\n",
            "第 6 個數是 350\n",
            "第 7 個數是 400\n",
            "第 8 個數是 450\n",
            "第 9 個數是 500\n",
            "第 10 個數是 550\n",
            "第 11 個數是 600\n",
            "第 12 個數是 650\n",
            "第 13 個數是 700\n",
            "第 14 個數是 750\n",
            "第 15 個數是 800\n",
            "第 16 個數是 850\n",
            "第 17 個數是 900\n",
            "第 18 個數是 950\n",
            "第 19 個數是 1000\n",
            "第 20 個數是 1050\n",
            "第 21 個數是 1100\n",
            "第 22 個數是 1150\n",
            "第 23 個數是 1200\n",
            "第 24 個數是 1250\n",
            "第 25 個數是 1300\n",
            "第 26 個數是 1350\n",
            "第 27 個數是 1400\n",
            "第 28 個數是 1450\n",
            "第 29 個數是 1500\n",
            "第 30 個數是 1550\n",
            "第 31 個數是 1600\n",
            "第 32 個數是 1650\n",
            "第 33 個數是 1700\n",
            "第 34 個數是 1750\n",
            "第 35 個數是 1800\n",
            "第 36 個數是 1850\n",
            "第 37 個數是 1900\n",
            "第 38 個數是 1950\n",
            "第 39 個數是 2000\n",
            "第 40 個數是 2050\n",
            "第 41 個數是 2100\n",
            "第 42 個數是 2150\n",
            "第 43 個數是 2200\n",
            "第 44 個數是 2250\n",
            "第 45 個數是 2300\n",
            "第 46 個數是 2350\n",
            "第 47 個數是 2400\n",
            "第 48 個數是 2450\n",
            "第 49 個數是 2500\n",
            "第 50 個數是 2550\n",
            "第 51 個數是 2600\n",
            "第 52 個數是 2650\n",
            "第 53 個數是 2700\n",
            "第 54 個數是 2750\n",
            "第 55 個數是 2800\n",
            "第 56 個數是 2850\n",
            "第 57 個數是 2900\n",
            "第 58 個數是 2950\n",
            "第 59 個數是 3000\n",
            "第 60 個數是 3050\n",
            "第 61 個數是 3100\n",
            "第 62 個數是 3150\n",
            "第 63 個數是 3200\n",
            "第 64 個數是 3250\n",
            "第 65 個數是 3300\n",
            "第 66 個數是 3350\n",
            "第 67 個數是 3400\n",
            "第 68 個數是 3450\n",
            "第 69 個數是 3500\n",
            "第 70 個數是 3550\n",
            "第 71 個數是 3600\n",
            "第 72 個數是 3650\n",
            "第 73 個數是 3700\n",
            "第 74 個數是 3750\n",
            "第 75 個數是 3800\n",
            "第 76 個數是 3850\n",
            "第 77 個數是 3900\n",
            "第 78 個數是 3950\n",
            "第 79 個數是 4000\n",
            "第 80 個數是 4050\n",
            "第 81 個數是 4100\n",
            "第 82 個數是 4150\n",
            "第 83 個數是 4200\n",
            "第 84 個數是 4250\n",
            "第 85 個數是 4300\n",
            "第 86 個數是 4350\n",
            "第 87 個數是 4400\n",
            "第 88 個數是 4450\n",
            "第 89 個數是 4500\n",
            "第 90 個數是 4550\n",
            "第 91 個數是 4600\n",
            "第 92 個數是 4650\n",
            "第 93 個數是 4700\n",
            "第 94 個數是 4750\n",
            "第 95 個數是 4800\n",
            "第 96 個數是 4850\n",
            "第 97 個數是 4900\n",
            "第 98 個數是 4950\n",
            "第 99 個數是 5000\n"
          ],
          "name": "stdout"
        }
      ]
    },
    {
      "cell_type": "code",
      "metadata": {
        "id": "RTKJ29wY0_p2",
        "colab_type": "code",
        "colab": {
          "base_uri": "https://localhost:8080/",
          "height": 34
        },
        "outputId": "952cce7c-c7e4-4105-b4d0-ac3e315a71f1"
      },
      "source": [
        "for a in range(6):\n",
        " print(a, end =\" \")\n",
        "print(\"\")"
      ],
      "execution_count": 14,
      "outputs": [
        {
          "output_type": "stream",
          "text": [
            "0 1 2 3 4 5 \n"
          ],
          "name": "stdout"
        }
      ]
    },
    {
      "cell_type": "code",
      "metadata": {
        "id": "TDY-7yV11FR0",
        "colab_type": "code",
        "colab": {
          "base_uri": "https://localhost:8080/",
          "height": 34
        },
        "outputId": "8bfa4ab4-9d87-4ca7-a564-49776a25c73a"
      },
      "source": [
        "for b in range(1, 6, 2):\n",
        " print(b, end =\" \")\n",
        "print(\"\")"
      ],
      "execution_count": 15,
      "outputs": [
        {
          "output_type": "stream",
          "text": [
            "1 3 5 \n"
          ],
          "name": "stdout"
        }
      ]
    },
    {
      "cell_type": "code",
      "metadata": {
        "id": "L1G6-8bC1wk1",
        "colab_type": "code",
        "colab": {
          "base_uri": "https://localhost:8080/",
          "height": 34
        },
        "outputId": "120422d4-6a67-48f7-d997-cc903ffc544d"
      },
      "source": [
        "for c in range(2, 6):\n",
        " print(c, end =\" \")\n",
        "print(\"\")"
      ],
      "execution_count": 17,
      "outputs": [
        {
          "output_type": "stream",
          "text": [
            "2 3 4 5 \n"
          ],
          "name": "stdout"
        }
      ]
    },
    {
      "cell_type": "code",
      "metadata": {
        "id": "Z-NdNGfe12dZ",
        "colab_type": "code",
        "colab": {
          "base_uri": "https://localhost:8080/",
          "height": 34
        },
        "outputId": "90cb47ce-c845-4c84-b0c9-3c5cdcc86f8d"
      },
      "source": [
        "for d in range(6, 1, -2):\n",
        " print(d, end =\" \")"
      ],
      "execution_count": 18,
      "outputs": [
        {
          "output_type": "stream",
          "text": [
            "6 4 2 "
          ],
          "name": "stdout"
        }
      ]
    },
    {
      "cell_type": "code",
      "metadata": {
        "id": "Upy8Z0Hy197X",
        "colab_type": "code",
        "colab": {
          "base_uri": "https://localhost:8080/",
          "height": 187
        },
        "outputId": "e92412e1-a5b6-4f08-9b1d-2e15fddfd692"
      },
      "source": [
        "s = int(input('請輸入加總開始值?'))\n",
        "e = int(input('請輸入加總終止值?'))\n",
        "inc = int(input('請輸入遞增減值?'))\n",
        "sum = 0 #初始結果\n",
        "for i in range(s, e, inc): #判斷條件\n",
        " sum = sum + i #更新結果\n",
        " print('i為', i, '加總結果為', sum)"
      ],
      "execution_count": 19,
      "outputs": [
        {
          "output_type": "stream",
          "text": [
            "請輸入加總開始值?2\n",
            "請輸入加總終止值?23\n",
            "請輸入遞增減值?3\n",
            "i為 2 加總結果為 2\n",
            "i為 5 加總結果為 7\n",
            "i為 8 加總結果為 15\n",
            "i為 11 加總結果為 26\n",
            "i為 14 加總結果為 40\n",
            "i為 17 加總結果為 57\n",
            "i為 20 加總結果為 77\n"
          ],
          "name": "stdout"
        }
      ]
    },
    {
      "cell_type": "code",
      "metadata": {
        "id": "bo4Yeeno2JR5",
        "colab_type": "code",
        "colab": {
          "base_uri": "https://localhost:8080/",
          "height": 34
        },
        "outputId": "71ba1299-517d-4000-8fb5-b187239a7ba5"
      },
      "source": [
        "sum = 0\n",
        "for x in range(1, 11, 2):\n",
        " sum = sum + x\n",
        "print(\"1+3+5+7+9=\", sum)"
      ],
      "execution_count": 20,
      "outputs": [
        {
          "output_type": "stream",
          "text": [
            "1+3+5+7+9= 25\n"
          ],
          "name": "stdout"
        }
      ]
    },
    {
      "cell_type": "code",
      "metadata": {
        "id": "qM5peP6y2MkR",
        "colab_type": "code",
        "colab": {
          "base_uri": "https://localhost:8080/",
          "height": 34
        },
        "outputId": "e4f1c0d0-ddd2-44d0-cb18-8ceb85cc92ee"
      },
      "source": [
        "for a in range(6):\n",
        " print(a, end=\" \")\n",
        "print(\"\")"
      ],
      "execution_count": 21,
      "outputs": [
        {
          "output_type": "stream",
          "text": [
            "0 1 2 3 4 5 \n"
          ],
          "name": "stdout"
        }
      ]
    },
    {
      "cell_type": "code",
      "metadata": {
        "id": "SXDLQB5H2PzI",
        "colab_type": "code",
        "colab": {
          "base_uri": "https://localhost:8080/",
          "height": 34
        },
        "outputId": "dd9bddd7-bff2-4651-fe37-a64e7cc1c3a4"
      },
      "source": [
        "for b in range(1, 6, 2):\n",
        " print(b, end=\" \")\n",
        "print(\"\")"
      ],
      "execution_count": 22,
      "outputs": [
        {
          "output_type": "stream",
          "text": [
            "1 3 5 \n"
          ],
          "name": "stdout"
        }
      ]
    },
    {
      "cell_type": "code",
      "metadata": {
        "id": "LEmBrodj2S0n",
        "colab_type": "code",
        "colab": {
          "base_uri": "https://localhost:8080/",
          "height": 34
        },
        "outputId": "ca96b7db-1b10-43e7-c936-6a318b2ed63c"
      },
      "source": [
        "for c in range(2, 6):\n",
        " print(c, end=\" \")\n",
        "print(\"\")"
      ],
      "execution_count": 23,
      "outputs": [
        {
          "output_type": "stream",
          "text": [
            "2 3 4 5 \n"
          ],
          "name": "stdout"
        }
      ]
    },
    {
      "cell_type": "code",
      "metadata": {
        "id": "pZpNAQXB2WV1",
        "colab_type": "code",
        "colab": {
          "base_uri": "https://localhost:8080/",
          "height": 34
        },
        "outputId": "3e3dc362-03ab-42f4-e7d6-0251f8353a48"
      },
      "source": [
        "for d in range(6, 1, -2):\n",
        " print(d, end=\" \")\n",
        "print(\"\")"
      ],
      "execution_count": 24,
      "outputs": [
        {
          "output_type": "stream",
          "text": [
            "6 4 2 \n"
          ],
          "name": "stdout"
        }
      ]
    },
    {
      "cell_type": "code",
      "metadata": {
        "id": "9gFqeMPH2Zeb",
        "colab_type": "code",
        "colab": {
          "base_uri": "https://localhost:8080/",
          "height": 51
        },
        "outputId": "8a943c51-164f-47a5-8f14-b91bff9fe467"
      },
      "source": [
        "n = int(input('請輸入n值?'))\n",
        "sum = 0;\n",
        "for i in range(1,n+1):\n",
        " sum = sum + i*i;\n",
        "print(sum)"
      ],
      "execution_count": 25,
      "outputs": [
        {
          "output_type": "stream",
          "text": [
            "請輸入n值?5\n",
            "55\n"
          ],
          "name": "stdout"
        }
      ]
    },
    {
      "cell_type": "code",
      "metadata": {
        "id": "Im7Mc5HO2dDr",
        "colab_type": "code",
        "colab": {
          "base_uri": "https://localhost:8080/",
          "height": 85
        },
        "outputId": "8b62642f-3ffa-4ae8-aee2-c4b65ae712ef"
      },
      "source": [
        "a = int(input(\"請輸入第1個數字:\"))\n",
        "b = int(input(\"請輸入第2個數字:\"))\n",
        "for c in range(a, 1, -1):\n",
        " if (a % c == 0 and b % c == 0):\n",
        "  break\n",
        "print(\"最大公約數 GCD =\", c)\n",
        "for c in range(a, a * b):\n",
        " if (c % a == 0 and c % b == 0):\n",
        "  break\n",
        "print(\"最小公倍數 LCM =\", c)"
      ],
      "execution_count": 27,
      "outputs": [
        {
          "output_type": "stream",
          "text": [
            "請輸入第1個數字:36\n",
            "請輸入第2個數字:8\n",
            "最大公約數 GCD = 4\n",
            "最小公倍數 LCM = 72\n"
          ],
          "name": "stdout"
        }
      ]
    },
    {
      "cell_type": "code",
      "metadata": {
        "id": "xaVNkEEj2qpm",
        "colab_type": "code",
        "colab": {
          "base_uri": "https://localhost:8080/",
          "height": 204
        },
        "outputId": "a21b47fa-6099-4514-b852-8fa2d165fbdc"
      },
      "source": [
        "num = int(input('輸入求第幾項費氏數列?'))\n",
        "a = 1\n",
        "b = 1\n",
        "print(1,a)\n",
        "for i in range(2, num+1):\n",
        " a, b = b, a+b\n",
        " print(i, a)"
      ],
      "execution_count": 29,
      "outputs": [
        {
          "output_type": "stream",
          "text": [
            "輸入求第幾項費氏數列?10\n",
            "1 1\n",
            "2 1\n",
            "3 2\n",
            "4 3\n",
            "5 5\n",
            "6 8\n",
            "7 13\n",
            "8 21\n",
            "9 34\n",
            "10 55\n"
          ],
          "name": "stdout"
        }
      ]
    },
    {
      "cell_type": "code",
      "metadata": {
        "id": "etI3WO6P2065",
        "colab_type": "code",
        "colab": {
          "base_uri": "https://localhost:8080/",
          "height": 136
        },
        "outputId": "9cf38939-100c-4a7e-f8ba-d4ab7b7290ce"
      },
      "source": [
        "import random\n",
        "while True:\n",
        " dice = random.randint(1,6)\n",
        " print(dice)\n",
        " if dice == 6:\n",
        "  break "
      ],
      "execution_count": 30,
      "outputs": [
        {
          "output_type": "stream",
          "text": [
            "1\n",
            "3\n",
            "5\n",
            "2\n",
            "1\n",
            "5\n",
            "6\n"
          ],
          "name": "stdout"
        }
      ]
    }
  ]
}