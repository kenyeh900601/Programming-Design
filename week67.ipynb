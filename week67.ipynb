{
  "nbformat": 4,
  "nbformat_minor": 0,
  "metadata": {
    "colab": {
      "name": "week67",
      "provenance": [],
      "collapsed_sections": []
    },
    "kernelspec": {
      "name": "python3",
      "display_name": "Python 3"
    }
  },
  "cells": [
    {
      "cell_type": "code",
      "metadata": {
        "id": "eNU0-AG8Pl1T",
        "colab_type": "code",
        "outputId": "e9cafd7c-2ebd-4ec7-ecb3-77d61fca4071",
        "colab": {
          "base_uri": "https://localhost:8080/",
          "height": 102
        }
      },
      "source": [
        "player = \"Ron Harper\"\n",
        "player_list = [\"Ron Harper\", \"Michael Jordan\", \"Scottie Pippen\", \"Dennis Rodman\", \"Luc Longley\"]\n",
        "player_tuple = tuple(player_list)\n",
        "player_dict = {\n",
        "\"PG\": \"Ron Harper\",\n",
        "\"SG\": \"Michael Jordan\",\n",
        "\"SF\": \"Scottie Pippen\",\n",
        "\"PF\": \"Dennis Rodman\",\n",
        "\"C\": \"Luc Longley\"\n",
        "}\n",
        "player_set = set(player_list)\n",
        "print(type(player))\n",
        "print(type(player_list))\n",
        "print(type(player_tuple))\n",
        "print(type(player_dict))\n",
        "print(type(player_set))"
      ],
      "execution_count": 0,
      "outputs": [
        {
          "output_type": "stream",
          "text": [
            "<class 'str'>\n",
            "<class 'list'>\n",
            "<class 'tuple'>\n",
            "<class 'dict'>\n",
            "<class 'set'>\n"
          ],
          "name": "stdout"
        }
      ]
    },
    {
      "cell_type": "code",
      "metadata": {
        "id": "3BoDZjpPRo3d",
        "colab_type": "code",
        "outputId": "6c850492-d5f4-40d3-c6bd-2d7b543125ed",
        "colab": {
          "base_uri": "https://localhost:8080/",
          "height": 34
        }
      },
      "source": [
        "s1 = '春眠不覺曉,處處聞啼鳥。'\n",
        "print(s1)"
      ],
      "execution_count": 0,
      "outputs": [
        {
          "output_type": "stream",
          "text": [
            "春眠不覺曉,處處聞啼鳥。\n"
          ],
          "name": "stdout"
        }
      ]
    },
    {
      "cell_type": "code",
      "metadata": {
        "id": "Jh8wpdQtSi3N",
        "colab_type": "code",
        "outputId": "1027e892-16ba-490f-c0b2-35f6fb494c4b",
        "colab": {
          "base_uri": "https://localhost:8080/",
          "height": 34
        }
      },
      "source": [
        "s2 = \"夜來風雨聲,花落知多少。\"\n",
        "print(s2)"
      ],
      "execution_count": 0,
      "outputs": [
        {
          "output_type": "stream",
          "text": [
            "夜來風雨聲,花落知多少。\n"
          ],
          "name": "stdout"
        }
      ]
    },
    {
      "cell_type": "code",
      "metadata": {
        "id": "DNsnqtOYS9IG",
        "colab_type": "code",
        "outputId": "67703698-f627-4238-9543-b71538abd287",
        "colab": {
          "base_uri": "https://localhost:8080/",
          "height": 51
        }
      },
      "source": [
        "s3 = '作者\"孟浩然\" 詩名\"春曉\"'\n",
        "print(s3)\n",
        "s4 = \"作者'孟浩然' 詩名'春曉'\"\n",
        "print(s4)"
      ],
      "execution_count": 0,
      "outputs": [
        {
          "output_type": "stream",
          "text": [
            "作者\"孟浩然\" 詩名\"春曉\"\n",
            "作者'孟浩然' 詩名'春曉'\n"
          ],
          "name": "stdout"
        }
      ]
    },
    {
      "cell_type": "code",
      "metadata": {
        "id": "54GTM5ASTHj4",
        "colab_type": "code",
        "outputId": "ac79d0f4-26ab-4a53-e8e3-5f9049037ce9",
        "colab": {
          "base_uri": "https://localhost:8080/",
          "height": 85
        }
      },
      "source": [
        "s5 = ''' 春眠不覺曉,處處聞啼鳥。\n",
        "夜來風雨聲,花落知多少。\n",
        "作者\"孟浩然\" 詩名\"春曉\"\n",
        "'''\n",
        "print(s5)"
      ],
      "execution_count": 0,
      "outputs": [
        {
          "output_type": "stream",
          "text": [
            " 春眠不覺曉,處處聞啼鳥。\n",
            "夜來風雨聲,花落知多少。\n",
            "作者\"孟浩然\" 詩名\"春曉\"\n",
            "\n"
          ],
          "name": "stdout"
        }
      ]
    },
    {
      "cell_type": "code",
      "metadata": {
        "id": "g9za6JAhUDhx",
        "colab_type": "code",
        "outputId": "b26e26cc-72f1-4ee9-891f-b88f8a946841",
        "colab": {
          "base_uri": "https://localhost:8080/",
          "height": 34
        }
      },
      "source": [
        "s1 =\"123\"\n",
        "s2 = \"456\"\n",
        "s3 = s1 + s2\n",
        "print(s3)"
      ],
      "execution_count": 0,
      "outputs": [
        {
          "output_type": "stream",
          "text": [
            "123456\n"
          ],
          "name": "stdout"
        }
      ]
    },
    {
      "cell_type": "code",
      "metadata": {
        "id": "eO3xqs2eULtR",
        "colab_type": "code",
        "outputId": "6a3d6c50-b2e2-4b01-f111-838b65699649",
        "colab": {
          "base_uri": "https://localhost:8080/",
          "height": 34
        }
      },
      "source": [
        "s4 = s1 * 2\n",
        "print(s4)"
      ],
      "execution_count": 0,
      "outputs": [
        {
          "output_type": "stream",
          "text": [
            "123123\n"
          ],
          "name": "stdout"
        }
      ]
    },
    {
      "cell_type": "code",
      "metadata": {
        "id": "V0MV_N_dUTn2",
        "colab_type": "code",
        "outputId": "d9a1649a-eeb7-450a-a001-10c1e9141d50",
        "colab": {
          "base_uri": "https://localhost:8080/",
          "height": 68
        }
      },
      "source": [
        "s5 = '春眠不覺曉,處處聞啼鳥。\\n\\\n",
        "夜來風雨聲,花落知多少。\\n\\\n",
        "\\t作者\"孟浩然\" 詩名\"春曉\"'\n",
        "print(s5)"
      ],
      "execution_count": 0,
      "outputs": [
        {
          "output_type": "stream",
          "text": [
            "春眠不覺曉,處處聞啼鳥。\n",
            "夜來風雨聲,花落知多少。\n",
            "\t作者\"孟浩然\" 詩名\"春曉\"\n"
          ],
          "name": "stdout"
        }
      ]
    },
    {
      "cell_type": "code",
      "metadata": {
        "id": "il4ncQYrUjIF",
        "colab_type": "code",
        "outputId": "b83cd2c8-662f-4973-e3f4-6dd6a26bbee0",
        "colab": {
          "base_uri": "https://localhost:8080/",
          "height": 85
        }
      },
      "source": [
        "s = '0123456789'\n",
        "print(s[0])\n",
        "print('s[1]=', s[1])\n",
        "print(s[-1])\n",
        "print('s[-2]=', s[-2])"
      ],
      "execution_count": 0,
      "outputs": [
        {
          "output_type": "stream",
          "text": [
            "0\n",
            "s[1]= 1\n",
            "9\n",
            "s[-2]= 8\n"
          ],
          "name": "stdout"
        }
      ]
    },
    {
      "cell_type": "code",
      "metadata": {
        "id": "4c2dUE4uUuKI",
        "colab_type": "code",
        "outputId": "19b4f6e0-4ee3-4a0e-ff6f-829d6285044c",
        "colab": {
          "base_uri": "https://localhost:8080/",
          "height": 204
        }
      },
      "source": [
        "s = '0123456789'\n",
        "print('s=', s, 's[:]=', s[:])\n",
        "print('s=', s, 's[5:]=', s[5:])\n",
        "print('s=', s, 's[-2:]=', s[-2:])\n",
        "print('s=', s, 's[:5]=', s[:5])\n",
        "print('s=', s, 's[:-2]=', s[:-2])\n",
        "print('s=', s, 's[7:9]=', s[7:9])\n",
        "print('s=', s, 's[-4:-1]=', s[-4:-1])\n",
        "print('s=', s, 's[5:-2]=', s[5:-2])\n",
        "print('s=', s, 's[2:10:2]=', s[2:10:2])\n",
        "print('s=', s, 's[::-1]=', s[::-1])\n",
        "print('s=', s, 's[-1::-1]=', s[-1::-1])"
      ],
      "execution_count": 0,
      "outputs": [
        {
          "output_type": "stream",
          "text": [
            "s= 0123456789 s[:]= 0123456789\n",
            "s= 0123456789 s[5:]= 56789\n",
            "s= 0123456789 s[-2:]= 89\n",
            "s= 0123456789 s[:5]= 01234\n",
            "s= 0123456789 s[:-2]= 01234567\n",
            "s= 0123456789 s[7:9]= 78\n",
            "s= 0123456789 s[-4:-1]= 678\n",
            "s= 0123456789 s[5:-2]= 567\n",
            "s= 0123456789 s[2:10:2]= 2468\n",
            "s= 0123456789 s[::-1]= 9876543210\n",
            "s= 0123456789 s[-1::-1]= 9876543210\n"
          ],
          "name": "stdout"
        }
      ]
    },
    {
      "cell_type": "code",
      "metadata": {
        "id": "4la8QGjnVKY3",
        "colab_type": "code",
        "outputId": "26f8a9d2-2501-4994-811e-98c59a6357ce",
        "colab": {
          "base_uri": "https://localhost:8080/",
          "height": 34
        }
      },
      "source": [
        "s = '春眠不覺曉,處處聞啼鳥,夜來風雨聲,花落知多少。'\n",
        "print(len(s))"
      ],
      "execution_count": 0,
      "outputs": [
        {
          "output_type": "stream",
          "text": [
            "24\n"
          ],
          "name": "stdout"
        }
      ]
    },
    {
      "cell_type": "code",
      "metadata": {
        "id": "iGObUUjcVX-g",
        "colab_type": "code",
        "outputId": "10dd5b7d-31dc-4a79-81fb-726f650bd071",
        "colab": {
          "base_uri": "https://localhost:8080/",
          "height": 34
        }
      },
      "source": [
        "s = '春眠不覺曉,處處聞啼鳥,夜來風雨聲,花落知多少。'\n",
        "list1 = s.split(',')\n",
        "print(list1)"
      ],
      "execution_count": 0,
      "outputs": [
        {
          "output_type": "stream",
          "text": [
            "['春眠不覺曉', '處處聞啼鳥', '夜來風雨聲', '花落知多少。']\n"
          ],
          "name": "stdout"
        }
      ]
    },
    {
      "cell_type": "code",
      "metadata": {
        "id": "LtZGwRIiVh0r",
        "colab_type": "code",
        "outputId": "010f3876-06b3-4994-8d6c-718f02058318",
        "colab": {
          "base_uri": "https://localhost:8080/",
          "height": 34
        }
      },
      "source": [
        "list1 = ['春眠不覺曉','處處聞啼鳥','夜來風雨聲','花落知多少。']\n",
        "s2=','.join(list1)\n",
        "print(s2)"
      ],
      "execution_count": 0,
      "outputs": [
        {
          "output_type": "stream",
          "text": [
            "春眠不覺曉,處處聞啼鳥,夜來風雨聲,花落知多少。\n"
          ],
          "name": "stdout"
        }
      ]
    },
    {
      "cell_type": "code",
      "metadata": {
        "id": "fmTk1nYHV4U3",
        "colab_type": "code",
        "outputId": "c839b7bd-9414-451d-f297-257d43532592",
        "colab": {
          "base_uri": "https://localhost:8080/",
          "height": 34
        }
      },
      "source": [
        "s1='春眠不覺曉,處處聞啼鳥,夜來風雨聲,花落知多少。'\n",
        "print(s1.find('花落'))"
      ],
      "execution_count": 0,
      "outputs": [
        {
          "output_type": "stream",
          "text": [
            "18\n"
          ],
          "name": "stdout"
        }
      ]
    },
    {
      "cell_type": "code",
      "metadata": {
        "id": "dWMq8mgiWVrl",
        "colab_type": "code",
        "outputId": "0e5eaf60-028a-4401-dc6d-530f2ca944b6",
        "colab": {
          "base_uri": "https://localhost:8080/",
          "height": 34
        }
      },
      "source": [
        "s1='春眠不覺曉,處處聞啼鳥,夜來風雨聲,花落知多少。'\n",
        "print(s1.count('處'))"
      ],
      "execution_count": 0,
      "outputs": [
        {
          "output_type": "stream",
          "text": [
            "2\n"
          ],
          "name": "stdout"
        }
      ]
    },
    {
      "cell_type": "code",
      "metadata": {
        "id": "FXALoa_jWZhU",
        "colab_type": "code",
        "outputId": "6985ce91-8b19-438d-b479-26aed4b7c964",
        "colab": {
          "base_uri": "https://localhost:8080/",
          "height": 34
        }
      },
      "source": [
        "s1='春眠不覺曉,處處聞啼鳥,夜來風雨聲,花落知多少。'\n",
        "s3=s1.replace('春','冬')\n",
        "print(s3)"
      ],
      "execution_count": 0,
      "outputs": [
        {
          "output_type": "stream",
          "text": [
            "冬眠不覺曉,處處聞啼鳥,夜來風雨聲,花落知多少。\n"
          ],
          "name": "stdout"
        }
      ]
    },
    {
      "cell_type": "code",
      "metadata": {
        "id": "k7QMnomxWxUn",
        "colab_type": "code",
        "outputId": "f0b6da0e-daf4-4685-8ce8-4f68b94bd2b4",
        "colab": {
          "base_uri": "https://localhost:8080/",
          "height": 34
        }
      },
      "source": [
        "s1='An apple a day.'\n",
        "print(s1.capitalize())"
      ],
      "execution_count": 0,
      "outputs": [
        {
          "output_type": "stream",
          "text": [
            "An apple a day.\n"
          ],
          "name": "stdout"
        }
      ]
    },
    {
      "cell_type": "code",
      "metadata": {
        "id": "qirCtjFnXFJw",
        "colab_type": "code",
        "outputId": "814fdc12-f9f3-4c53-c653-e8bbc034627d",
        "colab": {
          "base_uri": "https://localhost:8080/",
          "height": 34
        }
      },
      "source": [
        "s1='An apple a day.'\n",
        "print(s1.title())"
      ],
      "execution_count": 0,
      "outputs": [
        {
          "output_type": "stream",
          "text": [
            "An Apple A Day.\n"
          ],
          "name": "stdout"
        }
      ]
    },
    {
      "cell_type": "code",
      "metadata": {
        "id": "SIGQ6fuPXK_Z",
        "colab_type": "code",
        "outputId": "2981ba0a-3164-43cd-b359-e02379f1f0c2",
        "colab": {
          "base_uri": "https://localhost:8080/",
          "height": 34
        }
      },
      "source": [
        "s1='An apple a day.'\n",
        "print(s1.swapcase())"
      ],
      "execution_count": 0,
      "outputs": [
        {
          "output_type": "stream",
          "text": [
            "aN APPLE A DAY.\n"
          ],
          "name": "stdout"
        }
      ]
    },
    {
      "cell_type": "code",
      "metadata": {
        "id": "n3POvenOXPoo",
        "colab_type": "code",
        "outputId": "46d4ac5a-7b20-4c9a-d197-3aa861e74616",
        "colab": {
          "base_uri": "https://localhost:8080/",
          "height": 34
        }
      },
      "source": [
        "s1='An apple a day.'\n",
        "print(s1.upper())"
      ],
      "execution_count": 0,
      "outputs": [
        {
          "output_type": "stream",
          "text": [
            "AN APPLE A DAY.\n"
          ],
          "name": "stdout"
        }
      ]
    },
    {
      "cell_type": "code",
      "metadata": {
        "id": "9A0tH4wHXUVU",
        "colab_type": "code",
        "outputId": "ad3583c0-4047-4712-ed9d-39bd0a9b8431",
        "colab": {
          "base_uri": "https://localhost:8080/",
          "height": 34
        }
      },
      "source": [
        "s1='An apple a day.'\n",
        "print(s1.lower())"
      ],
      "execution_count": 0,
      "outputs": [
        {
          "output_type": "stream",
          "text": [
            "an apple a day.\n"
          ],
          "name": "stdout"
        }
      ]
    },
    {
      "cell_type": "code",
      "metadata": {
        "id": "_F4dTejTYDuY",
        "colab_type": "code",
        "outputId": "e428c88b-5e7b-41fc-ed81-3b726a62c4a0",
        "colab": {
          "base_uri": "https://localhost:8080/",
          "height": 85
        }
      },
      "source": [
        "t1 = ()\n",
        "print(t1)\n",
        "t2 = ('z', )\n",
        "print(t2)\n",
        "t3 = (1, 2, 3)\n",
        "print(t3)\n",
        "t4 = (1,2,3,4)\n",
        "t5 = (t4,5,6)\n",
        "print(t5)"
      ],
      "execution_count": 0,
      "outputs": [
        {
          "output_type": "stream",
          "text": [
            "()\n",
            "('z',)\n",
            "(1, 2, 3)\n",
            "((1, 2, 3, 4), 5, 6)\n"
          ],
          "name": "stdout"
        }
      ]
    },
    {
      "cell_type": "code",
      "metadata": {
        "id": "PWq-X8boYL1_",
        "colab_type": "code",
        "outputId": "941bc59a-cee4-45a2-ed5f-a93a7d55e74b",
        "colab": {
          "base_uri": "https://localhost:8080/",
          "height": 34
        }
      },
      "source": [
        "list1=[1,2,3,4]\n",
        "t6 = tuple(list1)\n",
        "print(t6)"
      ],
      "execution_count": 0,
      "outputs": [
        {
          "output_type": "stream",
          "text": [
            "(1, 2, 3, 4)\n"
          ],
          "name": "stdout"
        }
      ]
    },
    {
      "cell_type": "code",
      "metadata": {
        "id": "e8RPYw2cYTPH",
        "colab_type": "code",
        "outputId": "f0f441d8-6470-4093-977c-764c2c97a1d2",
        "colab": {
          "base_uri": "https://localhost:8080/",
          "height": 68
        }
      },
      "source": [
        "t1= (1,2,3,4)\n",
        "t2 = (5,6,t2)\n",
        "print(len(t2))\n",
        "print(t2[0])\n",
        "print(t2[2][0])"
      ],
      "execution_count": 0,
      "outputs": [
        {
          "output_type": "stream",
          "text": [
            "3\n",
            "5\n",
            "z\n"
          ],
          "name": "stdout"
        }
      ]
    },
    {
      "cell_type": "code",
      "metadata": {
        "id": "wngh6svoYcRS",
        "colab_type": "code",
        "outputId": "911a0547-01c0-4481-f3c6-7d359a2cff01",
        "colab": {
          "base_uri": "https://localhost:8080/",
          "height": 85
        }
      },
      "source": [
        "shoplist = ['牛奶', '蛋', '咖啡豆', '西瓜', '鳳梨']\n",
        "print('購物清單shoplist為')\n",
        "print(shoplist)\n",
        "listm = [1, 2.0, 'Python']\n",
        "print(\"串列可以包含各種資料型別的元素\")\n",
        "print(listm)"
      ],
      "execution_count": 0,
      "outputs": [
        {
          "output_type": "stream",
          "text": [
            "購物清單shoplist為\n",
            "['牛奶', '蛋', '咖啡豆', '西瓜', '鳳梨']\n",
            "串列可以包含各種資料型別的元素\n",
            "[1, 2.0, 'Python']\n"
          ],
          "name": "stdout"
        }
      ]
    },
    {
      "cell_type": "code",
      "metadata": {
        "id": "CJTUYT3jYhEo",
        "colab_type": "code",
        "outputId": "cb85ba1f-3f00-4ec8-a383-b60cf68cb74a",
        "colab": {
          "base_uri": "https://localhost:8080/",
          "height": 34
        }
      },
      "source": [
        "tuple2 = ('a', 'b', 1, 2)\n",
        "list2 = list(tuple2)\n",
        "print(list2)"
      ],
      "execution_count": 0,
      "outputs": [
        {
          "output_type": "stream",
          "text": [
            "['a', 'b', 1, 2]\n"
          ],
          "name": "stdout"
        }
      ]
    },
    {
      "cell_type": "code",
      "metadata": {
        "id": "ySShJe9waFnK",
        "colab_type": "code",
        "outputId": "8509ee2d-47ec-4d2b-a893-d3675a113827",
        "colab": {
          "base_uri": "https://localhost:8080/",
          "height": 34
        }
      },
      "source": [
        "shoplist1 = ['牛奶', '蛋', '咖啡豆']\n",
        "shoplist2 = ['西瓜', '鳳梨']\n",
        "shoplist_all = shoplist1 + shoplist2\n",
        "print(shoplist_all)"
      ],
      "execution_count": 0,
      "outputs": [
        {
          "output_type": "stream",
          "text": [
            "['牛奶', '蛋', '咖啡豆', '西瓜', '鳳梨']\n"
          ],
          "name": "stdout"
        }
      ]
    },
    {
      "cell_type": "code",
      "metadata": {
        "id": "OzXLIgoWaP-g",
        "colab_type": "code",
        "outputId": "b3478092-1368-41ce-e542-48d5c758aa93",
        "colab": {
          "base_uri": "https://localhost:8080/",
          "height": 68
        }
      },
      "source": [
        "shoplist = ['牛奶', '蛋', '咖啡豆', '西瓜', '鳳梨']\n",
        "print('顯示shoplist[0]為',shoplist[0])\n",
        "index = shoplist.index('咖啡豆')\n",
        "print(\"執行 index = shoplist.index('咖啡豆') 後\")\n",
        "print('index=', index)"
      ],
      "execution_count": 0,
      "outputs": [
        {
          "output_type": "stream",
          "text": [
            "顯示shoplist[0]為 牛奶\n",
            "執行 index = shoplist.index('咖啡豆') 後\n",
            "index= 2\n"
          ],
          "name": "stdout"
        }
      ]
    },
    {
      "cell_type": "code",
      "metadata": {
        "id": "Cgljgs21aXlu",
        "colab_type": "code",
        "outputId": "50fd0325-4533-4e76-cbd4-baad654f8b57",
        "colab": {
          "base_uri": "https://localhost:8080/",
          "height": 51
        }
      },
      "source": [
        "shoplist = ['牛奶', '蛋', '咖啡豆', '西瓜', '鳳梨']\n",
        "shoplist[1] = '皮蛋'\n",
        "print(\"執行 shoplist[1] = '皮蛋' 後\")\n",
        "print(shoplist)"
      ],
      "execution_count": 0,
      "outputs": [
        {
          "output_type": "stream",
          "text": [
            "執行 shoplist[1] = '皮蛋' 後\n",
            "['牛奶', '皮蛋', '咖啡豆', '西瓜', '鳳梨']\n"
          ],
          "name": "stdout"
        }
      ]
    },
    {
      "cell_type": "code",
      "metadata": {
        "id": "wD73LgVBad2z",
        "colab_type": "code",
        "outputId": "f9845cc0-0e25-4d5f-c6ff-6e61ddd28923",
        "colab": {
          "base_uri": "https://localhost:8080/",
          "height": 187
        }
      },
      "source": [
        "shoplist = ['牛奶', '蛋', '咖啡豆', '西瓜', '鳳梨']\n",
        "a = list('abcdefghijk')\n",
        "print('a[:]為', a[:])\n",
        "print('a[:5]為', a[:5])\n",
        "print('a[5:]為', a[5:])\n",
        "print('a[:-5]為', a[:-5])\n",
        "print('a[-5:]為', a[-5:])\n",
        "print('a[0:4]為', a[0:4])\n",
        "print('a[-5:-3]為', a[-5:-3])\n",
        "print('a[1:10:3]為', a[1:10:3])\n",
        "print('a[-1:-4:-1]為', a[-1:-4:-1])\n",
        "print('a[::-1]為', a[::-1])"
      ],
      "execution_count": 0,
      "outputs": [
        {
          "output_type": "stream",
          "text": [
            "a[:]為 ['a', 'b', 'c', 'd', 'e', 'f', 'g', 'h', 'i', 'j', 'k']\n",
            "a[:5]為 ['a', 'b', 'c', 'd', 'e']\n",
            "a[5:]為 ['f', 'g', 'h', 'i', 'j', 'k']\n",
            "a[:-5]為 ['a', 'b', 'c', 'd', 'e', 'f']\n",
            "a[-5:]為 ['g', 'h', 'i', 'j', 'k']\n",
            "a[0:4]為 ['a', 'b', 'c', 'd']\n",
            "a[-5:-3]為 ['g', 'h']\n",
            "a[1:10:3]為 ['b', 'e', 'h']\n",
            "a[-1:-4:-1]為 ['k', 'j', 'i']\n",
            "a[::-1]為 ['k', 'j', 'i', 'h', 'g', 'f', 'e', 'd', 'c', 'b', 'a']\n"
          ],
          "name": "stdout"
        }
      ]
    },
    {
      "cell_type": "code",
      "metadata": {
        "id": "5rP5GUBQWigu",
        "colab_type": "code",
        "colab": {
          "base_uri": "https://localhost:8080/",
          "height": 34
        },
        "outputId": "385eeab8-5252-4dbe-e123-233598d7c7da"
      },
      "source": [
        "shoplist = ['牛奶', '蛋', '咖啡豆', '西瓜', '鳳梨']\n",
        "print('購物清單shoplist的長度為', len(shoplist))"
      ],
      "execution_count": 3,
      "outputs": [
        {
          "output_type": "stream",
          "text": [
            "購物清單shoplist的長度為 5\n"
          ],
          "name": "stdout"
        }
      ]
    },
    {
      "cell_type": "code",
      "metadata": {
        "id": "G_JZr8DMb8eV",
        "colab_type": "code",
        "colab": {
          "base_uri": "https://localhost:8080/",
          "height": 51
        },
        "outputId": "1c2d8460-c1b3-41fc-85dd-a555a9fe5033"
      },
      "source": [
        "shoplist = ['牛奶', '蛋', '咖啡豆', '西瓜', '鳳梨']\n",
        "\n",
        "shoplist.append('麵包')\n",
        "print(\"執行 shoplist.append('麵包')後\")\n",
        "print(shoplist)"
      ],
      "execution_count": 4,
      "outputs": [
        {
          "output_type": "stream",
          "text": [
            "執行 shoplist.append('麵包')後\n",
            "['牛奶', '蛋', '咖啡豆', '西瓜', '鳳梨', '麵包']\n"
          ],
          "name": "stdout"
        }
      ]
    },
    {
      "cell_type": "code",
      "metadata": {
        "id": "CO2-Z8sKcDFS",
        "colab_type": "code",
        "colab": {
          "base_uri": "https://localhost:8080/",
          "height": 51
        },
        "outputId": "69ccafb7-dffe-4d33-d20f-78c00a9ce4bf"
      },
      "source": [
        "shoplist = ['牛奶', '蛋', '咖啡豆', '西瓜', '鳳梨']\n",
        "\n",
        "shoplist.insert(4, '蘋果')\n",
        "print(\"執行 shoplist.insert(4, '蘋果') 後\")\n",
        "print(shoplist)"
      ],
      "execution_count": 5,
      "outputs": [
        {
          "output_type": "stream",
          "text": [
            "執行 shoplist.insert(4, '蘋果') 後\n",
            "['牛奶', '蛋', '咖啡豆', '西瓜', '蘋果', '鳳梨']\n"
          ],
          "name": "stdout"
        }
      ]
    },
    {
      "cell_type": "code",
      "metadata": {
        "id": "l_OL5EC1cJgN",
        "colab_type": "code",
        "colab": {
          "base_uri": "https://localhost:8080/",
          "height": 51
        },
        "outputId": "282e168d-9a76-45ea-d8bd-be3632d9d473"
      },
      "source": [
        "shoplist = ['牛奶', '蛋', '咖啡豆', '西瓜', '鳳梨']\n",
        "\n",
        "shoplist.remove('蛋')\n",
        "print(\"執行 shoplist.remove('蛋') 後\")\n",
        "print(shoplist)"
      ],
      "execution_count": 6,
      "outputs": [
        {
          "output_type": "stream",
          "text": [
            "執行 shoplist.remove('蛋') 後\n",
            "['牛奶', '咖啡豆', '西瓜', '鳳梨']\n"
          ],
          "name": "stdout"
        }
      ]
    },
    {
      "cell_type": "code",
      "metadata": {
        "id": "uUufnwR0cM_N",
        "colab_type": "code",
        "colab": {
          "base_uri": "https://localhost:8080/",
          "height": 119
        },
        "outputId": "8b00e0ef-f9c8-4383-c200-06b1d7d26dc8"
      },
      "source": [
        "shoplist = ['牛奶', '蛋', '咖啡豆', '西瓜', '鳳梨']\n",
        "\n",
        "shoplist.pop(0)\n",
        "print(\"執行 shoplist.pop(0) 後\")\n",
        "print(shoplist)\n",
        "shoplist.pop()\n",
        "print(\"執行 shoplist.pop() 後\")\n",
        "print(shoplist)\n",
        "shoplist.pop(-1)\n",
        "print(\"執行 shoplist.pop(-1) 後\")\n",
        "print(shoplist)"
      ],
      "execution_count": 7,
      "outputs": [
        {
          "output_type": "stream",
          "text": [
            "執行 shoplist.pop(0) 後\n",
            "['蛋', '咖啡豆', '西瓜', '鳳梨']\n",
            "執行 shoplist.pop() 後\n",
            "['蛋', '咖啡豆', '西瓜']\n",
            "執行 shoplist.pop(-1) 後\n",
            "['蛋', '咖啡豆']\n"
          ],
          "name": "stdout"
        }
      ]
    },
    {
      "cell_type": "code",
      "metadata": {
        "id": "P3mlcqrscSx5",
        "colab_type": "code",
        "colab": {
          "base_uri": "https://localhost:8080/",
          "height": 51
        },
        "outputId": "f9a45e21-9ff9-46b2-bee4-44cbf3e42b31"
      },
      "source": [
        "shoplist = ['牛奶', '蛋', '咖啡豆', '西瓜', '鳳梨']\n",
        "\n",
        "del shoplist[0]\n",
        "print(\"執行 del shoplist[0] 後\")\n",
        "print(shoplist)"
      ],
      "execution_count": 8,
      "outputs": [
        {
          "output_type": "stream",
          "text": [
            "執行 del shoplist[0] 後\n",
            "['蛋', '咖啡豆', '西瓜', '鳳梨']\n"
          ],
          "name": "stdout"
        }
      ]
    },
    {
      "cell_type": "code",
      "metadata": {
        "id": "dc5TcsydcZC-",
        "colab_type": "code",
        "colab": {
          "base_uri": "https://localhost:8080/",
          "height": 119
        },
        "outputId": "d3a0c5a1-f364-44a7-a556-3793a9641716"
      },
      "source": [
        "shoplist = ['牛奶', '蛋', '咖啡豆', '西瓜', '鳳梨']\n",
        "\n",
        "shoplist.sort()\n",
        "print(\"執行 shoplist.sort() 後\")\n",
        "print(shoplist)\n",
        "\n",
        "shoplist = ['milk', 'egg', 'coffee', 'watermelon']\n",
        "shoplist.sort()\n",
        "print(\"執行 shoplist.sort() 後\")\n",
        "print(shoplist)\n",
        "shoplist.sort(reverse=True)\n",
        "print(\"執行 shoplist.sort(reverse=True) 後\")\n",
        "print(shoplist)"
      ],
      "execution_count": 9,
      "outputs": [
        {
          "output_type": "stream",
          "text": [
            "執行 shoplist.sort() 後\n",
            "['咖啡豆', '牛奶', '蛋', '西瓜', '鳳梨']\n",
            "執行 shoplist.sort() 後\n",
            "['coffee', 'egg', 'milk', 'watermelon']\n",
            "執行 shoplist.sort(reverse=True) 後\n",
            "['watermelon', 'milk', 'egg', 'coffee']\n"
          ],
          "name": "stdout"
        }
      ]
    },
    {
      "cell_type": "code",
      "metadata": {
        "id": "2ee6vqOdcgSv",
        "colab_type": "code",
        "colab": {
          "base_uri": "https://localhost:8080/",
          "height": 119
        },
        "outputId": "3aba6e74-d626-466b-ea2f-0433554335d4"
      },
      "source": [
        "list1 = [1, 2, 3, 4]\n",
        "list2 = list1\n",
        "print('list1=', list1)\n",
        "print('list2=', list2)\n",
        "list1[2]=19\n",
        "print('list1=', list1)\n",
        "print('list2=', list2)\n",
        "list2[2]=18\n",
        "print('list1=', list1)\n",
        "print('list2=', list2)"
      ],
      "execution_count": 10,
      "outputs": [
        {
          "output_type": "stream",
          "text": [
            "list1= [1, 2, 3, 4]\n",
            "list2= [1, 2, 3, 4]\n",
            "list1= [1, 2, 19, 4]\n",
            "list2= [1, 2, 19, 4]\n",
            "list1= [1, 2, 18, 4]\n",
            "list2= [1, 2, 18, 4]\n"
          ],
          "name": "stdout"
        }
      ]
    },
    {
      "cell_type": "code",
      "metadata": {
        "id": "nd0JIqYzckB5",
        "colab_type": "code",
        "colab": {
          "base_uri": "https://localhost:8080/",
          "height": 85
        },
        "outputId": "ffde2667-9b70-439d-b8b1-63708a62bb88"
      },
      "source": [
        "list1 = [1, 2, 3, 4]\n",
        "list4 = list1.copy()\n",
        "print('list1 = ', list1)\n",
        "print('list4 = ', list4)\n",
        "list4[2] = 19\n",
        "print('list1=', list1)\n",
        "print('list4=', list4)"
      ],
      "execution_count": 11,
      "outputs": [
        {
          "output_type": "stream",
          "text": [
            "list1 =  [1, 2, 3, 4]\n",
            "list4 =  [1, 2, 3, 4]\n",
            "list1= [1, 2, 3, 4]\n",
            "list4= [1, 2, 19, 4]\n"
          ],
          "name": "stdout"
        }
      ]
    },
    {
      "cell_type": "code",
      "metadata": {
        "id": "0pgIuIv7dRp9",
        "colab_type": "code",
        "colab": {
          "base_uri": "https://localhost:8080/",
          "height": 476
        },
        "outputId": "1da0d426-ef19-4bd9-cb92-de117f91ec95"
      },
      "source": [
        "season = \"1995-1996\"\n",
        "team = \"Chicago Bulls\"\n",
        "coach = \"Phil Jackson\"\n",
        "won_championship = True\n",
        "\n",
        "records = [72, 10]\n",
        "starting_lineup = [\"Ron Harper\", \"Michael Jordan\", \"Scottie Pippen\", \"Dennis Rodman\",\n",
        "\"Luc Longley\"]\n",
        "\n",
        "best_chicago_bulls = [season, team, coach, won_championship, records, starting_lineup]\n",
        "print(best_chicago_bulls)\n",
        "print(type(best_chicago_bulls))\n",
        "\n",
        "print(len(best_chicago_bulls))\n",
        "\n",
        "print(best_chicago_bulls[0])\n",
        "print(best_chicago_bulls[1])\n",
        "print(best_chicago_bulls[2])\n",
        "print(best_chicago_bulls[3])\n",
        "print(best_chicago_bulls[4])\n",
        "print(best_chicago_bulls[5])\n",
        "\n",
        "print(best_chicago_bulls[-1])\n",
        "print(best_chicago_bulls[-2])\n",
        "print(best_chicago_bulls[-3])\n",
        "print(best_chicago_bulls[-4])\n",
        "print(best_chicago_bulls[-5])\n",
        "print(best_chicago_bulls[-6])\n",
        "\n",
        "print(best_chicago_bulls[0:3])\n",
        "print(best_chicago_bulls[::2])\n",
        "print(best_chicago_bulls[::-1])\n",
        "\n",
        "best_chicago_bulls[5].append(\"Toni Kukoc\")\n",
        "print(best_chicago_bulls[5])\n",
        "\n",
        "best_chicago_bulls[5].insert(6, \"Toni Kukoc\")\n",
        "print(best_chicago_bulls[5])\n",
        "\n",
        "center = best_chicago_bulls[5].pop()\n",
        "print(center)\n",
        "print(best_chicago_bulls[5])\n",
        "\n",
        "best_chicago_bulls = [season, team, coach, won_championship, records, starting_lineup]\n",
        "del best_chicago_bulls[5][0]\n",
        "print(best_chicago_bulls[5])\n",
        "\n",
        "best_chicago_bulls = [season, team, coach, won_championship, records, starting_lineup]\n",
        "\n",
        "best_chicago_bulls[4].sort()\n",
        "print(best_chicago_bulls[4])\n",
        "\n",
        "best_chicago_bulls[4].sort(reverse=True)\n",
        "print(best_chicago_bulls[4])\n",
        "\n",
        "best_chicago_bulls[5].sort()\n",
        "print(best_chicago_bulls[5])\n",
        "\n",
        "best_chicago_bulls[5].sort(reverse=True)\n",
        "print(best_chicago_bulls[5])"
      ],
      "execution_count": 13,
      "outputs": [
        {
          "output_type": "stream",
          "text": [
            "['1995-1996', 'Chicago Bulls', 'Phil Jackson', True, [72, 10], ['Ron Harper', 'Michael Jordan', 'Scottie Pippen', 'Dennis Rodman', 'Luc Longley']]\n",
            "<class 'list'>\n",
            "6\n",
            "1995-1996\n",
            "Chicago Bulls\n",
            "Phil Jackson\n",
            "True\n",
            "[72, 10]\n",
            "['Ron Harper', 'Michael Jordan', 'Scottie Pippen', 'Dennis Rodman', 'Luc Longley']\n",
            "['Ron Harper', 'Michael Jordan', 'Scottie Pippen', 'Dennis Rodman', 'Luc Longley']\n",
            "[72, 10]\n",
            "True\n",
            "Phil Jackson\n",
            "Chicago Bulls\n",
            "1995-1996\n",
            "['1995-1996', 'Chicago Bulls', 'Phil Jackson']\n",
            "['1995-1996', 'Phil Jackson', [72, 10]]\n",
            "[['Ron Harper', 'Michael Jordan', 'Scottie Pippen', 'Dennis Rodman', 'Luc Longley'], [72, 10], True, 'Phil Jackson', 'Chicago Bulls', '1995-1996']\n",
            "['Ron Harper', 'Michael Jordan', 'Scottie Pippen', 'Dennis Rodman', 'Luc Longley', 'Toni Kukoc']\n",
            "['Ron Harper', 'Michael Jordan', 'Scottie Pippen', 'Dennis Rodman', 'Luc Longley', 'Toni Kukoc', 'Toni Kukoc']\n",
            "Toni Kukoc\n",
            "['Ron Harper', 'Michael Jordan', 'Scottie Pippen', 'Dennis Rodman', 'Luc Longley', 'Toni Kukoc']\n",
            "['Michael Jordan', 'Scottie Pippen', 'Dennis Rodman', 'Luc Longley', 'Toni Kukoc']\n",
            "[10, 72]\n",
            "[72, 10]\n",
            "['Dennis Rodman', 'Luc Longley', 'Michael Jordan', 'Scottie Pippen', 'Toni Kukoc']\n",
            "['Toni Kukoc', 'Scottie Pippen', 'Michael Jordan', 'Luc Longley', 'Dennis Rodman']\n"
          ],
          "name": "stdout"
        }
      ]
    },
    {
      "cell_type": "code",
      "metadata": {
        "id": "_JjgoslKdtnk",
        "colab_type": "code",
        "colab": {
          "base_uri": "https://localhost:8080/",
          "height": 51
        },
        "outputId": "3a67e72c-57fc-4006-b0b4-6fdc2564c71c"
      },
      "source": [
        "dict1={}\n",
        "print(dict1)\n",
        "lang={'早安':'Good Morning', '你好':'Hello'}\n",
        "print(lang)"
      ],
      "execution_count": 15,
      "outputs": [
        {
          "output_type": "stream",
          "text": [
            "{}\n",
            "{'早安': 'Good Morning', '你好': 'Hello'}\n"
          ],
          "name": "stdout"
        }
      ]
    },
    {
      "cell_type": "code",
      "metadata": {
        "id": "oGFu2pgzeBCX",
        "colab_type": "code",
        "colab": {
          "base_uri": "https://localhost:8080/",
          "height": 85
        },
        "outputId": "6eac2562-12c0-454c-92cc-43368c1691f8"
      },
      "source": [
        "a=[['早安','Good Morning'],['你好','Hello']]\n",
        "dict1 = dict(a)\n",
        "print(dict1)\n",
        "b=[('早安','Good Morning'),('你好','Hello')]\n",
        "dict2 = dict(b)\n",
        "print(dict2)\n",
        "c=(['早安','Good Morning'],['你好','Hello'])\n",
        "dict3 = dict(c)\n",
        "print(dict3)\n",
        "d=(('早安','Good Morning'),('你好','Hello'))\n",
        "dict4 = dict(d)\n",
        "print(dict4)"
      ],
      "execution_count": 16,
      "outputs": [
        {
          "output_type": "stream",
          "text": [
            "{'早安': 'Good Morning', '你好': 'Hello'}\n",
            "{'早安': 'Good Morning', '你好': 'Hello'}\n",
            "{'早安': 'Good Morning', '你好': 'Hello'}\n",
            "{'早安': 'Good Morning', '你好': 'Hello'}\n"
          ],
          "name": "stdout"
        }
      ]
    },
    {
      "cell_type": "code",
      "metadata": {
        "id": "f_WKW2cxeLmI",
        "colab_type": "code",
        "colab": {
          "base_uri": "https://localhost:8080/",
          "height": 34
        },
        "outputId": "31e1a355-e5ac-49f8-a25e-a6ae78618e7a"
      },
      "source": [
        "lang={'早安':'Good Morning', '你好':'Hello'}\n",
        "\n",
        "print('「你好」的英文為',lang['你好'])"
      ],
      "execution_count": 17,
      "outputs": [
        {
          "output_type": "stream",
          "text": [
            "「你好」的英文為 Hello\n"
          ],
          "name": "stdout"
        }
      ]
    },
    {
      "cell_type": "code",
      "metadata": {
        "id": "-4dUHSl8eQKv",
        "colab_type": "code",
        "colab": {
          "base_uri": "https://localhost:8080/",
          "height": 165
        },
        "outputId": "4888a31f-fd0d-4c48-f691-dbe8f7c38223"
      },
      "source": [
        "print('「你好嗎」的英文為',lang['你好嗎'])"
      ],
      "execution_count": 18,
      "outputs": [
        {
          "output_type": "error",
          "ename": "KeyError",
          "evalue": "ignored",
          "traceback": [
            "\u001b[0;31m---------------------------------------------------------------------------\u001b[0m",
            "\u001b[0;31mKeyError\u001b[0m                                  Traceback (most recent call last)",
            "\u001b[0;32m<ipython-input-18-b70232786b87>\u001b[0m in \u001b[0;36m<module>\u001b[0;34m()\u001b[0m\n\u001b[0;32m----> 1\u001b[0;31m \u001b[0mprint\u001b[0m\u001b[0;34m(\u001b[0m\u001b[0;34m'「你好嗎」的英文為'\u001b[0m\u001b[0;34m,\u001b[0m\u001b[0mlang\u001b[0m\u001b[0;34m[\u001b[0m\u001b[0;34m'你好嗎'\u001b[0m\u001b[0;34m]\u001b[0m\u001b[0;34m)\u001b[0m\u001b[0;34m\u001b[0m\u001b[0;34m\u001b[0m\u001b[0m\n\u001b[0m",
            "\u001b[0;31mKeyError\u001b[0m: '你好嗎'"
          ]
        }
      ]
    },
    {
      "cell_type": "code",
      "metadata": {
        "id": "Qvnf7oWneSj2",
        "colab_type": "code",
        "colab": {
          "base_uri": "https://localhost:8080/",
          "height": 51
        },
        "outputId": "215787e6-35b8-40cf-d385-ca54cc83cceb"
      },
      "source": [
        "lang={'早安':'Good Morning', '你好':'Hello'}\n",
        "\n",
        "lang['你好']='Hi'\n",
        "print(lang)\n",
        "\n",
        "lang['學生']='Student'\n",
        "print(lang)"
      ],
      "execution_count": 19,
      "outputs": [
        {
          "output_type": "stream",
          "text": [
            "{'早安': 'Good Morning', '你好': 'Hi'}\n",
            "{'早安': 'Good Morning', '你好': 'Hi', '學生': 'Student'}\n"
          ],
          "name": "stdout"
        }
      ]
    },
    {
      "cell_type": "code",
      "metadata": {
        "id": "P6GQjI3oeWez",
        "colab_type": "code",
        "colab": {
          "base_uri": "https://localhost:8080/",
          "height": 34
        },
        "outputId": "4ec67a88-53d3-4cc8-c6cd-90c65b8f5df0"
      },
      "source": [
        "lang={'早安':'Good Morning', '你好':'Hello'}\n",
        "del lang['早安']\n",
        "print(lang)"
      ],
      "execution_count": 20,
      "outputs": [
        {
          "output_type": "stream",
          "text": [
            "{'你好': 'Hello'}\n"
          ],
          "name": "stdout"
        }
      ]
    },
    {
      "cell_type": "code",
      "metadata": {
        "id": "4SQM5BZBeZ7q",
        "colab_type": "code",
        "colab": {
          "base_uri": "https://localhost:8080/",
          "height": 34
        },
        "outputId": "8f6f4b76-b0e3-4465-8be2-eaead308ca76"
      },
      "source": [
        "lang1={'你好':'Hello'}\n",
        "lang2={'學生':'Student'}\n",
        "lang1.update(lang2)\n",
        "print(lang1)"
      ],
      "execution_count": 21,
      "outputs": [
        {
          "output_type": "stream",
          "text": [
            "{'你好': 'Hello', '學生': 'Student'}\n"
          ],
          "name": "stdout"
        }
      ]
    },
    {
      "cell_type": "code",
      "metadata": {
        "id": "lGuEW__6edXC",
        "colab_type": "code",
        "colab": {
          "base_uri": "https://localhost:8080/",
          "height": 51
        },
        "outputId": "3667407c-ba8b-416e-8361-ce57dfccc26e"
      },
      "source": [
        "lang1 = {'早安':'Good Morning','你好':'Hello'}\n",
        "lang2 = lang1\n",
        "lang2['你好']='Hi'\n",
        "print('lang1為', lang1)\n",
        "print('lang2為', lang2)"
      ],
      "execution_count": 22,
      "outputs": [
        {
          "output_type": "stream",
          "text": [
            "lang1為 {'早安': 'Good Morning', '你好': 'Hi'}\n",
            "lang2為 {'早安': 'Good Morning', '你好': 'Hi'}\n"
          ],
          "name": "stdout"
        }
      ]
    },
    {
      "cell_type": "code",
      "metadata": {
        "id": "QCJm14ItegB_",
        "colab_type": "code",
        "colab": {
          "base_uri": "https://localhost:8080/",
          "height": 51
        },
        "outputId": "943d9473-fa05-4bd3-9252-6239a18180be"
      },
      "source": [
        "lang1 = {'早安': 'Good Morning', '你好': 'Hello'}\n",
        "lang3 = lang1.copy()\n",
        "lang3['你好']='Hi'\n",
        "print('lang1為', lang1)\n",
        "print('lang3為', lang3)"
      ],
      "execution_count": 23,
      "outputs": [
        {
          "output_type": "stream",
          "text": [
            "lang1為 {'早安': 'Good Morning', '你好': 'Hello'}\n",
            "lang3為 {'早安': 'Good Morning', '你好': 'Hi'}\n"
          ],
          "name": "stdout"
        }
      ]
    },
    {
      "cell_type": "code",
      "metadata": {
        "id": "4hPdGdyDekXd",
        "colab_type": "code",
        "colab": {
          "base_uri": "https://localhost:8080/",
          "height": 102
        },
        "outputId": "da07a90b-b318-4226-c98c-f6fc1979f3ba"
      },
      "source": [
        "s = {1,2,3,4}\n",
        "print(s)\n",
        "\n",
        "s = set(('a',1,'b',2))\n",
        "print(s)\n",
        "s = set(['apple', 'banana', 'apple'])\n",
        "print(s)\n",
        "s = set({'早安':'Good Morning', '你好':'Hello'})\n",
        "print(s)\n",
        "s = set('racecar')\n",
        "print(s)"
      ],
      "execution_count": 24,
      "outputs": [
        {
          "output_type": "stream",
          "text": [
            "{1, 2, 3, 4}\n",
            "{'b', 'a', 2, 1}\n",
            "{'banana', 'apple'}\n",
            "{'早安', '你好'}\n",
            "{'a', 'r', 'e', 'c'}\n"
          ],
          "name": "stdout"
        }
      ]
    },
    {
      "cell_type": "code",
      "metadata": {
        "id": "VjU95lyjeqle",
        "colab_type": "code",
        "colab": {
          "base_uri": "https://localhost:8080/",
          "height": 68
        },
        "outputId": "6c9e4b38-00c3-4383-ea0f-379a065d32d1"
      },
      "source": [
        "s = set('tiger')\n",
        "print(s)\n",
        "\n",
        "s.add('z')\n",
        "print(s)\n",
        "\n",
        "s.remove('t')\n",
        "print(s)"
      ],
      "execution_count": 25,
      "outputs": [
        {
          "output_type": "stream",
          "text": [
            "{'e', 'g', 'i', 't', 'r'}\n",
            "{'e', 'g', 'i', 't', 'z', 'r'}\n",
            "{'e', 'g', 'i', 'z', 'r'}\n"
          ],
          "name": "stdout"
        }
      ]
    },
    {
      "cell_type": "code",
      "metadata": {
        "id": "mXcA6d-vetUh",
        "colab_type": "code",
        "colab": {
          "base_uri": "https://localhost:8080/",
          "height": 102
        },
        "outputId": "0b3ba99b-5429-4d75-aa10-b720cc2ad6d0"
      },
      "source": [
        "a = set('tiger')\n",
        "b = set('bear')\n",
        "print(a)\n",
        "print(b)\n",
        "print(a | b)\n",
        "print(a & b)\n",
        "print(a - b)"
      ],
      "execution_count": 26,
      "outputs": [
        {
          "output_type": "stream",
          "text": [
            "{'e', 'g', 'i', 't', 'r'}\n",
            "{'b', 'e', 'r', 'a'}\n",
            "{'e', 'a', 'i', 't', 'b', 'g', 'r'}\n",
            "{'e', 'r'}\n",
            "{'g', 'i', 't'}\n"
          ],
          "name": "stdout"
        }
      ]
    },
    {
      "cell_type": "code",
      "metadata": {
        "id": "mMGndtAOeyTs",
        "colab_type": "code",
        "colab": {
          "base_uri": "https://localhost:8080/",
          "height": 51
        },
        "outputId": "712b24e5-98d2-4168-8bbd-4a541d058924"
      },
      "source": [
        "a = set('tiger')\n",
        "b = set('tigers')\n",
        "print(a<=b)\n",
        "a = set('tiger')\n",
        "b = set('tigers')\n",
        "print(a<b)"
      ],
      "execution_count": 27,
      "outputs": [
        {
          "output_type": "stream",
          "text": [
            "True\n",
            "True\n"
          ],
          "name": "stdout"
        }
      ]
    }
  ]
}