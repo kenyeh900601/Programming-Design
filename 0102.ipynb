{
  "nbformat": 4,
  "nbformat_minor": 0,
  "metadata": {
    "colab": {
      "name": "0102.ipynb",
      "provenance": []
    },
    "kernelspec": {
      "name": "python3",
      "display_name": "Python 3"
    }
  },
  "cells": [
    {
      "cell_type": "code",
      "metadata": {
        "id": "ArqrDcc7wZUM",
        "colab_type": "code",
        "colab": {
          "base_uri": "https://localhost:8080/",
          "height": 187
        },
        "outputId": "fcf4cbae-7b79-448a-9c51-2c8509c6216c"
      },
      "source": [
        "x = 0 \n",
        "while x < 10: \n",
        "    print(\"hello\")\n",
        "    x = x + 1\n",
        "  "
      ],
      "execution_count": 2,
      "outputs": [
        {
          "output_type": "stream",
          "text": [
            "hello\n",
            "hello\n",
            "hello\n",
            "hello\n",
            "hello\n",
            "hello\n",
            "hello\n",
            "hello\n",
            "hello\n",
            "hello\n"
          ],
          "name": "stdout"
        }
      ]
    },
    {
      "cell_type": "code",
      "metadata": {
        "id": "1blUDH4mwkgO",
        "colab_type": "code",
        "colab": {
          "base_uri": "https://localhost:8080/",
          "height": 187
        },
        "outputId": "bbffb20d-9528-4e11-8ce1-bb8a2fb35480"
      },
      "source": [
        "times = 0 \n",
        "while times < 10: \n",
        "    times = times + 1 \n",
        "    print(\"這是第\", times, \"次的hello\")"
      ],
      "execution_count": 3,
      "outputs": [
        {
          "output_type": "stream",
          "text": [
            "這是第 1 次的hello\n",
            "這是第 2 次的hello\n",
            "這是第 3 次的hello\n",
            "這是第 4 次的hello\n",
            "這是第 5 次的hello\n",
            "這是第 6 次的hello\n",
            "這是第 7 次的hello\n",
            "這是第 8 次的hello\n",
            "這是第 9 次的hello\n",
            "這是第 10 次的hello\n"
          ],
          "name": "stdout"
        }
      ]
    },
    {
      "cell_type": "code",
      "metadata": {
        "id": "wQvgkoEkwp8k",
        "colab_type": "code",
        "colab": {
          "base_uri": "https://localhost:8080/",
          "height": 357
        },
        "outputId": "ccd4ea49-1fc8-4e8b-c597-3797e00b81fe"
      },
      "source": [
        "times = 0\n",
        "left = 0 \n",
        "while times < 10: \n",
        "    times = times + 1 \n",
        "    print(\"這是第\", times, \"次的hello\")\n",
        "    left = 10 - times \n",
        "    print(\"還有\", left, \"次機會\")"
      ],
      "execution_count": 4,
      "outputs": [
        {
          "output_type": "stream",
          "text": [
            "這是第 1 次的hello\n",
            "還有 9 次機會\n",
            "這是第 2 次的hello\n",
            "還有 8 次機會\n",
            "這是第 3 次的hello\n",
            "還有 7 次機會\n",
            "這是第 4 次的hello\n",
            "還有 6 次機會\n",
            "這是第 5 次的hello\n",
            "還有 5 次機會\n",
            "這是第 6 次的hello\n",
            "還有 4 次機會\n",
            "這是第 7 次的hello\n",
            "還有 3 次機會\n",
            "這是第 8 次的hello\n",
            "還有 2 次機會\n",
            "這是第 9 次的hello\n",
            "還有 1 次機會\n",
            "這是第 10 次的hello\n",
            "還有 0 次機會\n"
          ],
          "name": "stdout"
        }
      ]
    },
    {
      "cell_type": "code",
      "metadata": {
        "id": "csRPK4eaw_Vi",
        "colab_type": "code",
        "colab": {
          "base_uri": "https://localhost:8080/",
          "height": 34
        },
        "outputId": "ea5c5ea4-3aa3-4ddf-9c93-8864fcfe2944"
      },
      "source": [
        "sum = 0\n",
        "i = 0\n",
        "while sum <= 1000:\n",
        "    i += 1\n",
        "    sum += i*i\n",
        "print('最小的n值為', i)\n"
      ],
      "execution_count": 8,
      "outputs": [
        {
          "output_type": "stream",
          "text": [
            "最小的n值為 14\n"
          ],
          "name": "stdout"
        }
      ]
    },
    {
      "cell_type": "code",
      "metadata": {
        "id": "uB-bEkTXxC8Y",
        "colab_type": "code",
        "colab": {
          "base_uri": "https://localhost:8080/",
          "height": 34
        },
        "outputId": "9bd75f74-2049-4d9c-912e-9d3c01512f4b"
      },
      "source": [
        "sum = 0 \n",
        "x = 1 \n",
        "\n",
        "while x < 11: \n",
        "    sum = sum + x \n",
        "    x = x + 2\n",
        "    \n",
        "print(\"1 + 3 + 5 + 7 + 9 = \", sum)"
      ],
      "execution_count": 9,
      "outputs": [
        {
          "output_type": "stream",
          "text": [
            "1 + 3 + 5 + 7 + 9 =  25\n"
          ],
          "name": "stdout"
        }
      ]
    }
  ]
}